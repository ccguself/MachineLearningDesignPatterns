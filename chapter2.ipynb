{
 "cells": [
  {
   "cell_type": "markdown",
   "metadata": {},
   "source": [
    "Chapter 2. Data Representation Design Patterns"
   ]
  },
  {
   "cell_type": "markdown",
   "metadata": {},
   "source": [
    "1. 对于不同的模型，需要选择适应模型的数据（特征，即进入模型的数据）\n",
    "（原始数据：input；进入模型的数据：features）\n",
    "2. \n",
    "e.g. 对于深度学习模型来说，embedding patterns：可以降维，化稀疏为连续；automatically engineered features\n"
   ]
  },
  {
   "cell_type": "code",
   "execution_count": null,
   "metadata": {},
   "outputs": [],
   "source": [
    "\n"
   ]
  }
 ],
 "metadata": {
  "language_info": {
   "name": "python"
  },
  "orig_nbformat": 4
 },
 "nbformat": 4,
 "nbformat_minor": 2
}
